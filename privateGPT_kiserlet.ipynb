{
  "nbformat": 4,
  "nbformat_minor": 0,
  "metadata": {
    "colab": {
      "provenance": [],
      "gpuType": "T4",
      "authorship_tag": "ABX9TyMgghakuxoBfJjZnr/6y3pq",
      "include_colab_link": true
    },
    "kernelspec": {
      "name": "python3",
      "display_name": "Python 3"
    },
    "language_info": {
      "name": "python"
    },
    "accelerator": "GPU"
  },
  "cells": [
    {
      "cell_type": "markdown",
      "metadata": {
        "id": "view-in-github",
        "colab_type": "text"
      },
      "source": [
        "<a href=\"https://colab.research.google.com/github/rypotter/depo/blob/master/privateGPT_kiserlet.ipynb\" target=\"_parent\"><img src=\"https://colab.research.google.com/assets/colab-badge.svg\" alt=\"Open In Colab\"/></a>"
      ]
    },
    {
      "cell_type": "markdown",
      "source": [
        "https://github.com/imartinez/privateGPT\n",
        "\n",
        "https://docs.privategpt.dev/overview/welcome/quickstart\n",
        "\n",
        "https://docs.privategpt.dev/installation\n",
        "\n",
        "https://github.com/elise-chin/poetry-and-colab/blob/main/Using_python_poetry_in_Google_Colab.ipynb"
      ],
      "metadata": {
        "id": "AvtBfoXiskRh"
      }
    },
    {
      "cell_type": "code",
      "execution_count": null,
      "metadata": {
        "id": "fTmGRRRgsfKG"
      },
      "outputs": [],
      "source": [
        "#!python --version #Python 3.10.12\n",
        "#!python3 --version #Python 3.10.12\n",
        "#!pip --version #pip 23.1.2 from /usr/local/lib/python3.10/dist-packages/pip (python 3.10)\n",
        "#!uname -a #Linux 53fe6770cbc1 6.1.58+ #1 SMP PREEMPT_DYNAMIC Sat Nov 18 15:31:17 UTC 2023 x86_64 x86_64 x86_64 GNU/Linux\n",
        "#!cat /etc/os-release #PRETTY_NAME=\"Ubuntu 22.04.3 LTS\"\n",
        "#!whoami #root\n",
        "!python --version && whoami && cat /etc/os-release && pwd && ls -al # 3.10.12 /content\n"
      ]
    },
    {
      "cell_type": "code",
      "source": [
        "!add-apt-repository ppa:deadsnakes/ppa && apt update && apt upgrade && apt-get install python3.11 # Enter-t kér!!!\n"
      ],
      "metadata": {
        "id": "L6jxq-7qvyxz"
      },
      "execution_count": null,
      "outputs": []
    },
    {
      "cell_type": "code",
      "source": [
        "!update-alternatives --install /usr/bin/python3 python3 /usr/bin/python3.10 1 && update-alternatives --install /usr/bin/python3 python3 /usr/bin/python3.11 2\n",
        "!update-alternatives --config python3 #choose 2 for python 3.11 !!!"
      ],
      "metadata": {
        "colab": {
          "base_uri": "https://localhost:8080/"
        },
        "id": "aJUtAluHy4pX",
        "outputId": "17ef406a-dbe1-4788-c04b-c6a503c88598"
      },
      "execution_count": null,
      "outputs": [
        {
          "output_type": "stream",
          "name": "stdout",
          "text": [
            "update-alternatives: using /usr/bin/python3.10 to provide /usr/bin/python3 (python3) in auto mode\n",
            "update-alternatives: using /usr/bin/python3.11 to provide /usr/bin/python3 (python3) in auto mode\n",
            "There are 2 choices for the alternative python3 (providing /usr/bin/python3).\n",
            "\n",
            "  Selection    Path                 Priority   Status\n",
            "------------------------------------------------------------\n",
            "* 0            /usr/bin/python3.11   2         auto mode\n",
            "  1            /usr/bin/python3.10   1         manual mode\n",
            "  2            /usr/bin/python3.11   2         manual mode\n",
            "\n",
            "Press <enter> to keep the current choice[*], or type selection number: 2\n"
          ]
        }
      ]
    },
    {
      "cell_type": "code",
      "source": [
        "!apt install python-is-python3"
      ],
      "metadata": {
        "colab": {
          "base_uri": "https://localhost:8080/"
        },
        "id": "2KXpuU200eLA",
        "outputId": "a5366548-ee5c-4740-f260-42cf36e4d739"
      },
      "execution_count": null,
      "outputs": [
        {
          "output_type": "stream",
          "name": "stdout",
          "text": [
            "Reading package lists... Done\n",
            "Building dependency tree... Done\n",
            "Reading state information... Done\n",
            "The following NEW packages will be installed:\n",
            "  python-is-python3\n",
            "0 upgraded, 1 newly installed, 0 to remove and 5 not upgraded.\n",
            "Need to get 2,788 B of archives.\n",
            "After this operation, 13.3 kB of additional disk space will be used.\n",
            "Get:1 http://archive.ubuntu.com/ubuntu jammy/main amd64 python-is-python3 all 3.9.2-2 [2,788 B]\n",
            "Fetched 2,788 B in 0s (19.9 kB/s)\n",
            "Selecting previously unselected package python-is-python3.\n",
            "(Reading database ... 122361 files and directories currently installed.)\n",
            "Preparing to unpack .../python-is-python3_3.9.2-2_all.deb ...\n",
            "Unpacking python-is-python3 (3.9.2-2) ...\n",
            "Setting up python-is-python3 (3.9.2-2) ...\n",
            "Processing triggers for man-db (2.10.2-1) ...\n"
          ]
        }
      ]
    },
    {
      "cell_type": "code",
      "source": [
        "!apt install python3-pip && pip --version\n",
        "!apt-get install python3.11-dev && apt-get install python3.11-venv"
      ],
      "metadata": {
        "id": "Q87Sa4A4qDTp"
      },
      "execution_count": null,
      "outputs": []
    },
    {
      "cell_type": "code",
      "source": [
        "!python --version && python3 --version && python3.11 --version && pip --version # Python 3.11.7"
      ],
      "metadata": {
        "colab": {
          "base_uri": "https://localhost:8080/"
        },
        "id": "fJaxu5kE7XAE",
        "outputId": "2a10716d-0f57-4f84-f215-95f610d03002"
      },
      "execution_count": null,
      "outputs": [
        {
          "output_type": "stream",
          "name": "stdout",
          "text": [
            "Python 3.11.7\n",
            "Python 3.11.7\n",
            "Python 3.11.7\n",
            "pip 22.0.2 from /usr/lib/python3/dist-packages/pip (python 3.11)\n"
          ]
        }
      ]
    },
    {
      "cell_type": "code",
      "source": [
        "!git clone https://github.com/imartinez/privateGPT && \\\n",
        "cd privateGPT && \\\n",
        "python3.11 -m venv venv && source venv/bin/activate && \\\n",
        "pip install --upgrade pip poetry && poetry install --with ui,local && ./scripts/setup\n",
        "# poetry run python3.11 -m private_gpt\n",
        "# Launch the privateGPT API server **and** the gradio UI\n",
        "#!poetry run python3.11 -m private_gpt\n",
        "\n",
        "# In another terminal, create a new browser window on your private GPT!\n",
        "#!open http://127.0.0.1:8001/\n"
      ],
      "metadata": {
        "id": "ZB8Uc0f32R3M"
      },
      "execution_count": null,
      "outputs": []
    },
    {
      "cell_type": "code",
      "source": [
        "# ngrok\n",
        "!cd privateGPT && source venv/bin/activate && pip install nest-asyncio pyngrok"
      ],
      "metadata": {
        "id": "R41f6EsMprTS",
        "outputId": "c8c273d7-e4c3-489d-adf3-82b6a6be4910",
        "colab": {
          "base_uri": "https://localhost:8080/"
        }
      },
      "execution_count": null,
      "outputs": [
        {
          "output_type": "stream",
          "name": "stdout",
          "text": [
            "Requirement already satisfied: nest-asyncio in ./venv/lib/python3.11/site-packages (1.5.8)\n",
            "Collecting pyngrok\n",
            "  Downloading pyngrok-7.0.5-py3-none-any.whl.metadata (6.2 kB)\n",
            "Requirement already satisfied: PyYAML in ./venv/lib/python3.11/site-packages (from pyngrok) (6.0.1)\n",
            "Downloading pyngrok-7.0.5-py3-none-any.whl (21 kB)\n",
            "Installing collected packages: pyngrok\n",
            "Successfully installed pyngrok-7.0.5\n"
          ]
        }
      ]
    },
    {
      "cell_type": "code",
      "source": [
        "# Itt, indítás előtt beszúrni a private_gpt/__main__.py-be ezt:\n",
        "\n",
        "#====================\n",
        "#import nest_asyncio\n",
        "#from pyngrok import ngrok, conf\n",
        "#\n",
        "#conf.get_default().auth_token = \"2aUPfvz6scs612VfSIEtz2ypD76_4CGJwKgT5gVXiwqhsMWB6\" # getpass.getpass()\n",
        "#ngrok_tunnel = ngrok.connect(8001) # 8000)\n",
        "#print('Public URL:', ngrok_tunnel.public_url)\n",
        "#nest_asyncio.apply()\n",
        "#====================\n",
        "\n",
        "# Launch the privateGPT API server **and** the gradio UI\n",
        "!cd privateGPT && source venv/bin/activate && poetry run python3.11 -m private_gpt\n",
        "\n",
        "# In another terminal, create a new browser window on your private GPT!\n",
        "#!open http://127.0.0.1:8001/ # remote URL open in new browser window"
      ],
      "metadata": {
        "id": "N50k1bqK-Ckq"
      },
      "execution_count": null,
      "outputs": []
    }
  ]
}