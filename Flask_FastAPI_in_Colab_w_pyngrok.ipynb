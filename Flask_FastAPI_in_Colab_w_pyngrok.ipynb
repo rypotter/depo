{
  "nbformat": 4,
  "nbformat_minor": 0,
  "metadata": {
    "colab": {
      "provenance": [],
      "include_colab_link": true
    },
    "kernelspec": {
      "name": "python3",
      "display_name": "Python 3"
    }
  },
  "cells": [
    {
      "cell_type": "markdown",
      "metadata": {
        "id": "view-in-github",
        "colab_type": "text"
      },
      "source": [
        "<a href=\"https://colab.research.google.com/github/rypotter/depo/blob/master/pyngrok_Colab_HTTP_Example.ipynb\" target=\"_parent\"><img src=\"https://colab.research.google.com/assets/colab-badge.svg\" alt=\"Open In Colab\"/></a>"
      ]
    },
    {
      "cell_type": "markdown",
      "source": [
        "# **Running Flask and FastAPI on Google Colab**\n",
        "Sahil Ahuja\n",
        "\n",
        "https://medium.datadriveninvestor.com/flask-on-colab-825d2099d9d8"
      ],
      "metadata": {
        "id": "vzYRc4nhEGhs"
      }
    },
    {
      "cell_type": "markdown",
      "source": [
        "# Flask\n"
      ],
      "metadata": {
        "id": "zFE1hFNSLzIn"
      }
    },
    {
      "cell_type": "code",
      "metadata": {
        "id": "15FGYusaCg2s"
      },
      "source": [
        "!pip install flask\n",
        "!pip install pyngrok"
      ],
      "execution_count": null,
      "outputs": []
    },
    {
      "cell_type": "code",
      "metadata": {
        "id": "vPc_bodwBQmM",
        "cellView": "code"
      },
      "source": [
        "import getpass\n",
        "import os\n",
        "import threading\n",
        "\n",
        "from flask import Flask\n",
        "from pyngrok import ngrok, conf\n",
        "\n",
        "print(\"Enter your authtoken, which can be copied from https://dashboard.ngrok.com/get-started/your-authtoken\")\n",
        "conf.get_default().auth_token = getpass.getpass() # 2aUPfvz6scs612VfSIEtz2ypD76_4CGJwKgT5gVXiwqhsMWB6\n",
        "\n",
        "app = Flask(__name__)\n",
        "\n",
        "# Open a ngrok tunnel to the HTTP server\n",
        "public_url = ngrok.connect(5000).public_url\n",
        "print(\" * ngrok tunnel \\\"{}\\\" -> \\\"http://127.0.0.1:{}/\\\"\".format(public_url, 5000))\n",
        "\n",
        "# Update any base URLs to use the public ngrok URL\n",
        "app.config[\"BASE_URL\"] = public_url\n",
        "\n",
        "# ... Update inbound traffic via APIs to use the public-facing ngrok URL\n",
        "\n",
        "\n",
        "# Define Flask routes\n",
        "@app.route(\"/\")\n",
        "def index():\n",
        "    return \"Hello from Colab!\"\n",
        "\n",
        "# Start the Flask server in a new thread\n",
        "threading.Thread(target=app.run, kwargs={\"use_reloader\": False}).start()"
      ],
      "execution_count": null,
      "outputs": []
    },
    {
      "cell_type": "markdown",
      "source": [
        "# FastAPI in Colab"
      ],
      "metadata": {
        "id": "10CNykjqLopd"
      }
    },
    {
      "cell_type": "code",
      "source": [
        "# FastAPI\n",
        "!pip install fastapi nest-asyncio pyngrok uvicorn"
      ],
      "metadata": {
        "id": "NF_yx17TDyiL"
      },
      "execution_count": null,
      "outputs": []
    },
    {
      "cell_type": "code",
      "source": [
        "from fastapi import FastAPI\n",
        "import nest_asyncio\n",
        "from pyngrok import ngrok, conf\n",
        "import uvicorn\n",
        "\n",
        "print(\"Enter your authtoken, which can be copied from https://dashboard.ngrok.com/get-started/your-authtoken\")\n",
        "conf.get_default().auth_token = getpass.getpass()\n",
        "\n",
        "app = FastAPI()\n",
        "\n",
        "@app.get('/')  # /index')\n",
        "async def home():\n",
        "  return \"Hello World from FastAPI\"\n",
        "\n",
        "ngrok_tunnel = ngrok.connect(8000)\n",
        "print('Public URL:', ngrok_tunnel.public_url)\n",
        "nest_asyncio.apply()\n",
        "uvicorn.run(app, port=8000)"
      ],
      "metadata": {
        "id": "tPdpDhDpEE5c"
      },
      "execution_count": null,
      "outputs": []
    }
  ]
}
