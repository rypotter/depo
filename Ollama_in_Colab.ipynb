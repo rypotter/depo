{
  "nbformat": 4,
  "nbformat_minor": 0,
  "metadata": {
    "colab": {
      "provenance": [],
      "gpuType": "T4",
      "include_colab_link": true
    },
    "kernelspec": {
      "name": "python3",
      "display_name": "Python 3"
    },
    "language_info": {
      "name": "python"
    },
    "accelerator": "GPU"
  },
  "cells": [
    {
      "cell_type": "markdown",
      "metadata": {
        "id": "view-in-github",
        "colab_type": "text"
      },
      "source": [
        "<a href=\"https://colab.research.google.com/github/rypotter/depo/blob/master/Ollama_in_Colab.ipynb\" target=\"_parent\"><img src=\"https://colab.research.google.com/assets/colab-badge.svg\" alt=\"Open In Colab\"/></a>"
      ]
    },
    {
      "cell_type": "markdown",
      "source": [
        "### Install Ollama and Langchain"
      ],
      "metadata": {
        "id": "3unUffJd0Vx-"
      }
    },
    {
      "cell_type": "code",
      "source": [
        "!curl -fsSL https://ollama.com/install.sh | sh\n",
        "!pip install langchain_community"
      ],
      "metadata": {
        "id": "SF1YeP7CxUjM"
      },
      "execution_count": null,
      "outputs": []
    },
    {
      "cell_type": "markdown",
      "source": [
        "### Start Ollama server as a background process and pull llama3 image."
      ],
      "metadata": {
        "id": "klts3IEj0k2j"
      }
    },
    {
      "cell_type": "code",
      "source": [
        "import subprocess\n",
        "process = subprocess.Popen([\"ollama\", \"serve\"])"
      ],
      "metadata": {
        "id": "Z24oORsrye_v"
      },
      "execution_count": 2,
      "outputs": []
    },
    {
      "cell_type": "code",
      "source": [
        "!ollama list"
      ],
      "metadata": {
        "colab": {
          "base_uri": "https://localhost:8080/"
        },
        "id": "y1Zdzf12zC3u",
        "outputId": "13ed5811-19f2-49b4-bf9b-e72254781cd9"
      },
      "execution_count": 3,
      "outputs": [
        {
          "output_type": "stream",
          "name": "stdout",
          "text": [
            "NAME\tID\tSIZE\tMODIFIED \n"
          ]
        }
      ]
    },
    {
      "cell_type": "code",
      "source": [
        "!ollama pull llama3"
      ],
      "metadata": {
        "id": "7QLGgGRHyNGx"
      },
      "execution_count": null,
      "outputs": []
    },
    {
      "cell_type": "markdown",
      "source": [
        "### Expose the port"
      ],
      "metadata": {
        "id": "9E4oSvSv1Hkz"
      }
    },
    {
      "cell_type": "code",
      "source": [
        "from google.colab.output import eval_js\n",
        "notebook_url = eval_js(\"google.colab.kernel.proxyPort(11434)\")"
      ],
      "metadata": {
        "id": "yvUaZUvFxUrD"
      },
      "execution_count": 5,
      "outputs": []
    },
    {
      "cell_type": "code",
      "source": [
        "!export OLLAMA_HOST=notebook_url"
      ],
      "metadata": {
        "id": "1YWw8UysxUuF"
      },
      "execution_count": 6,
      "outputs": []
    },
    {
      "cell_type": "code",
      "source": [
        "from langchain_community.llms import Ollama\n",
        "llm = Ollama(model=\"llama3\")"
      ],
      "metadata": {
        "id": "jXCxVp85x2_d"
      },
      "execution_count": 7,
      "outputs": []
    },
    {
      "cell_type": "code",
      "source": [
        "# %%timeit\n",
        "response = llm.invoke(\"Can you speak Hungarian?\")\n",
        "print(response)"
      ],
      "metadata": {
        "colab": {
          "base_uri": "https://localhost:8080/"
        },
        "id": "1ilTlOFEx3CX",
        "outputId": "7a3f28d8-a73c-4b8a-825d-2db49d202df5"
      },
      "execution_count": 12,
      "outputs": [
        {
          "output_type": "stream",
          "name": "stdout",
          "text": [
            "Szia! (That's \"hello\" in Hungarian!) I can understand and respond to basic phrases and sentences in Hungarian, but my proficiency is limited. I've been trained on a significant amount of text data, including Hungarian language samples, which allows me to recognize and generate some common words and phrases.\n",
            "\n",
            "However, please keep in mind that my knowledge of Hungarian is not as extensive as it would be for a native speaker or someone who has spent more time studying the language. If you have specific questions or need help with a particular phrase or word, I'll do my best to assist you.\n",
            "\n",
            "Here are some basic phrases and words to get us started:\n",
            "\n",
            "* Szia (hello)\n",
            "* Viszontlátásra (goodbye)\n",
            "* Köszönöm (thank you)\n",
            "* Igen (yes)\n",
            "* Nem (no)\n",
            "* Szeged (Szeged, a city in Hungary)\n",
            "* Budapest (the capital of Hungary)\n",
            "* Csak (just/only)\n",
            "* Milyen? (how are you?)\n",
            "* Jól vagyok (I'm fine)\n",
            "\n",
            "If you'd like to practice or have any specific questions, I'm here to help!\n"
          ]
        }
      ]
    },
    {
      "cell_type": "code",
      "source": [],
      "metadata": {
        "id": "oISN2YCt5NjW"
      },
      "execution_count": null,
      "outputs": []
    },
    {
      "cell_type": "code",
      "source": [],
      "metadata": {
        "id": "t0i8BTbU1shz"
      },
      "execution_count": null,
      "outputs": []
    },
    {
      "cell_type": "code",
      "source": [],
      "metadata": {
        "id": "NDOGFb981q9B"
      },
      "execution_count": null,
      "outputs": []
    }
  ]
}