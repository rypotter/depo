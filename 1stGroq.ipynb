{
  "nbformat": 4,
  "nbformat_minor": 0,
  "metadata": {
    "colab": {
      "provenance": [],
      "authorship_tag": "ABX9TyMyu3bI9pnISbqUgaN9GBaw",
      "include_colab_link": true
    },
    "kernelspec": {
      "name": "python3",
      "display_name": "Python 3"
    },
    "language_info": {
      "name": "python"
    }
  },
  "cells": [
    {
      "cell_type": "markdown",
      "metadata": {
        "id": "view-in-github",
        "colab_type": "text"
      },
      "source": [
        "<a href=\"https://colab.research.google.com/github/rypotter/depo/blob/master/1stGroq.ipynb\" target=\"_parent\"><img src=\"https://colab.research.google.com/assets/colab-badge.svg\" alt=\"Open In Colab\"/></a>"
      ]
    },
    {
      "cell_type": "markdown",
      "source": [
        "### **1stGroq**"
      ],
      "metadata": {
        "id": "Z-7XMVTISZy9"
      }
    },
    {
      "cell_type": "code",
      "source": [
        "from getpass import getpass\n",
        "groq_api_key = getpass('Enter the secret value: ')"
      ],
      "metadata": {
        "colab": {
          "base_uri": "https://localhost:8080/"
        },
        "id": "zhxNq0yPIoPO",
        "outputId": "09e300f3-b071-45d7-f2e2-98dd85e44a90"
      },
      "execution_count": 9,
      "outputs": [
        {
          "name": "stdout",
          "output_type": "stream",
          "text": [
            "Enter the secret value: ··········\n"
          ]
        }
      ]
    },
    {
      "cell_type": "code",
      "source": [
        "# print(secret)"
      ],
      "metadata": {
        "colab": {
          "base_uri": "https://localhost:8080/"
        },
        "id": "OK4FKpH2IrAl",
        "outputId": "8904ec80-87a5-4e62-a140-ce8c41597979"
      },
      "execution_count": 6,
      "outputs": [
        {
          "output_type": "stream",
          "name": "stdout",
          "text": [
            "dist-packages\n"
          ]
        }
      ]
    },
    {
      "cell_type": "code",
      "source": [
        "## Vagy így is lehetne a Secrets-be beírva\n",
        "#from google.colab import userdata\n",
        "#groq_api_key=userdata.get('GROQ_API_KEY')"
      ],
      "metadata": {
        "id": "DHfibtIJt1Qb"
      },
      "execution_count": 8,
      "outputs": []
    },
    {
      "cell_type": "code",
      "source": [],
      "metadata": {
        "id": "Ur-fpsDDB9GA"
      },
      "execution_count": 2,
      "outputs": []
    },
    {
      "cell_type": "code",
      "source": [
        "!pip install groq"
      ],
      "metadata": {
        "colab": {
          "base_uri": "https://localhost:8080/"
        },
        "id": "59OOAyZyS9fk",
        "outputId": "53d0e53d-331c-4566-ee3b-3821d9cd208f"
      },
      "execution_count": 10,
      "outputs": [
        {
          "output_type": "stream",
          "name": "stdout",
          "text": [
            "Collecting groq\n",
            "  Downloading groq-0.10.0-py3-none-any.whl.metadata (13 kB)\n",
            "Requirement already satisfied: anyio<5,>=3.5.0 in /usr/local/lib/python3.10/dist-packages (from groq) (3.7.1)\n",
            "Requirement already satisfied: distro<2,>=1.7.0 in /usr/lib/python3/dist-packages (from groq) (1.7.0)\n",
            "Collecting httpx<1,>=0.23.0 (from groq)\n",
            "  Downloading httpx-0.27.2-py3-none-any.whl.metadata (7.1 kB)\n",
            "Requirement already satisfied: pydantic<3,>=1.9.0 in /usr/local/lib/python3.10/dist-packages (from groq) (2.8.2)\n",
            "Requirement already satisfied: sniffio in /usr/local/lib/python3.10/dist-packages (from groq) (1.3.1)\n",
            "Requirement already satisfied: typing-extensions<5,>=4.7 in /usr/local/lib/python3.10/dist-packages (from groq) (4.12.2)\n",
            "Requirement already satisfied: idna>=2.8 in /usr/local/lib/python3.10/dist-packages (from anyio<5,>=3.5.0->groq) (3.8)\n",
            "Requirement already satisfied: exceptiongroup in /usr/local/lib/python3.10/dist-packages (from anyio<5,>=3.5.0->groq) (1.2.2)\n",
            "Requirement already satisfied: certifi in /usr/local/lib/python3.10/dist-packages (from httpx<1,>=0.23.0->groq) (2024.7.4)\n",
            "Collecting httpcore==1.* (from httpx<1,>=0.23.0->groq)\n",
            "  Downloading httpcore-1.0.5-py3-none-any.whl.metadata (20 kB)\n",
            "Collecting h11<0.15,>=0.13 (from httpcore==1.*->httpx<1,>=0.23.0->groq)\n",
            "  Downloading h11-0.14.0-py3-none-any.whl.metadata (8.2 kB)\n",
            "Requirement already satisfied: annotated-types>=0.4.0 in /usr/local/lib/python3.10/dist-packages (from pydantic<3,>=1.9.0->groq) (0.7.0)\n",
            "Requirement already satisfied: pydantic-core==2.20.1 in /usr/local/lib/python3.10/dist-packages (from pydantic<3,>=1.9.0->groq) (2.20.1)\n",
            "Downloading groq-0.10.0-py3-none-any.whl (106 kB)\n",
            "\u001b[2K   \u001b[90m━━━━━━━━━━━━━━━━━━━━━━━━━━━━━━━━━━━━━━━━\u001b[0m \u001b[32m106.3/106.3 kB\u001b[0m \u001b[31m3.6 MB/s\u001b[0m eta \u001b[36m0:00:00\u001b[0m\n",
            "\u001b[?25hDownloading httpx-0.27.2-py3-none-any.whl (76 kB)\n",
            "\u001b[2K   \u001b[90m━━━━━━━━━━━━━━━━━━━━━━━━━━━━━━━━━━━━━━━━\u001b[0m \u001b[32m76.4/76.4 kB\u001b[0m \u001b[31m4.6 MB/s\u001b[0m eta \u001b[36m0:00:00\u001b[0m\n",
            "\u001b[?25hDownloading httpcore-1.0.5-py3-none-any.whl (77 kB)\n",
            "\u001b[2K   \u001b[90m━━━━━━━━━━━━━━━━━━━━━━━━━━━━━━━━━━━━━━━━\u001b[0m \u001b[32m77.9/77.9 kB\u001b[0m \u001b[31m4.3 MB/s\u001b[0m eta \u001b[36m0:00:00\u001b[0m\n",
            "\u001b[?25hDownloading h11-0.14.0-py3-none-any.whl (58 kB)\n",
            "\u001b[2K   \u001b[90m━━━━━━━━━━━━━━━━━━━━━━━━━━━━━━━━━━━━━━━━\u001b[0m \u001b[32m58.3/58.3 kB\u001b[0m \u001b[31m3.2 MB/s\u001b[0m eta \u001b[36m0:00:00\u001b[0m\n",
            "\u001b[?25hInstalling collected packages: h11, httpcore, httpx, groq\n",
            "Successfully installed groq-0.10.0 h11-0.14.0 httpcore-1.0.5 httpx-0.27.2\n"
          ]
        }
      ]
    },
    {
      "cell_type": "code",
      "source": [
        "import os\n",
        "\n",
        "from groq import Groq\n",
        "# from google.colab import userdata\n",
        "\n",
        "# key = userdata.get('GROQ_API_KEY')\n",
        "## print(key)\n",
        "\n",
        "\n",
        "client = Groq(\n",
        "    api_key=groq_api_key,\n",
        ")\n",
        "\n",
        "chat_completion = client.chat.completions.create(\n",
        "    messages=[\n",
        "        {\n",
        "            \"role\": \"user\",\n",
        "            \"content\": \"Explain the importance of fast language models\",\n",
        "        }\n",
        "    ],\n",
        "    model=\"llama3-8b-8192\",\n",
        ")\n",
        "\n",
        "print(chat_completion.choices[0].message.content)"
      ],
      "metadata": {
        "colab": {
          "base_uri": "https://localhost:8080/"
        },
        "id": "m44fmonZTNXr",
        "outputId": "29cb1142-d632-4b4b-8c3d-111665d9684f"
      },
      "execution_count": 11,
      "outputs": [
        {
          "output_type": "stream",
          "name": "stdout",
          "text": [
            "Fast language models, also known as quick language models or accelerated language models, are neural network-based language models designed to process and generate text quickly, while maintaining reasonably good performance. Here are the key reasons why fast language models are important:\n",
            "\n",
            "1. **Efficient processing**: Fast language models enable rapid processing of vast amounts of text data, making them essential for applications where time is critical, such as:\n",
            "\t* Real-time text analysis and summarization\n",
            "\t* Chatbots and conversational AI\n",
            "\t* Language translation services\n",
            "\t* Sentiment analysis and emotion detection\n",
            "2. **Scalability**: With the ability to process large volumes of data quickly, fast language models can handle large-scale text analysis tasks, making them suitable for:\n",
            "\t* Massive text data processing (e.g., social media analysis)\n",
            "\t* Distributed computing environments\n",
            "\t* Cloud-based applications\n",
            "3. **Real-time applications**: Fast language models can support real-time applications, such as:\n",
            "\t* Live captioning and subtitles\n",
            "\t* Real-time text-to-speech synthesis\n",
            "\t* Immediate language translation\n",
            "4. **Improved user experience**: By processing text quickly, fast language models can provide a faster and more responsive user experience, making them suitable for applications like:\n",
            "\t* Virtual assistants and voice assistants\n",
            "\t* Mobile apps and games\n",
            "\t* Content creation and editing tools\n",
            "5. **Downstream NLP tasks**: Fast language models can be used as building blocks for more complex NLP tasks, such as:\n",
            "\t* Question answering\n",
            "\t* Text classification\n",
            "\t* Named entity recognition\n",
            "\t* Machine translation\n",
            "6. **Knowledge extraction**: Fast language models can quickly extract relevant information from vast amounts of unstructured text data, making them useful for applications like:\n",
            "\t* Document analysis\n",
            "\t* Information retrieval\n",
            "\t* Expert search\n",
            "7. **Faster development and testing**: With the ability to generate text quickly, fast language models can speed up the development and testing of language-based applications, such as:\n",
            "\t* Language interface testing\n",
            "\t* Localization and internationalization\n",
            "\t* Conversational dialogue flow development\n",
            "8. **Competitive advantage**: Companies that develop and deploy fast language models can gain a competitive advantage in industries where efficient text processing is critical, such as:\n",
            "\t* Customer service and support\n",
            "\t* Marketing and advertising\n",
            "\t* Healthcare and research\n",
            "\n",
            "In summary, fast language models offer significant benefits in terms of efficiency, scalability, and performance, making them essential for a wide range of applications where rapid text processing is critical.\n"
          ]
        }
      ]
    }
  ]
}